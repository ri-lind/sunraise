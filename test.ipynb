{
 "cells": [
  {
   "cell_type": "code",
   "execution_count": 9,
   "metadata": {},
   "outputs": [],
   "source": [
    "import os\n",
    "from openai import OpenAI\n",
    "from dotenv import load_dotenv\n",
    "from crossref.restful import Works, Etiquette"
   ]
  },
  {
   "cell_type": "code",
   "execution_count": 10,
   "metadata": {},
   "outputs": [],
   "source": [
    "load_dotenv() # load the environment\n",
    "\n",
    "\n",
    "client = OpenAI(\n",
    "    api_key=os.getenv(\"OPENAI_API_KEY\"),  # This is the default and can be omitted\n",
    ")\n"
   ]
  },
  {
   "cell_type": "code",
   "execution_count": 11,
   "metadata": {},
   "outputs": [],
   "source": [
    "\n",
    "NUMBER_OF_WORKS = int(os.getenv(\"NUMBER_OF_WORKS\"))\n",
    "\n",
    "my_ettiquete = Etiquette('Sunrise Prototype', '1.0', 'N/A', 'r.harizaj@uni-muenster.de')\n",
    "\n",
    "works = Works(etiquette=my_ettiquete)\n",
    "ai_works = works.query(\"Artifical Intelligence\").query(\"Academia\").query(\"Industry\").filter(has_abstract=\"true\").sort(\"issued\")\n",
    "ai_v2 = works.query(\"AI academia industry\")\n",
    "\n",
    "number_of_fetched_works = 0\n",
    "\n",
    "latest_work = \"\"\n",
    "with open(\"research_articles\", \"w\", encoding=\"utf-8\") as research:\n",
    "\n",
    "    for i in ai_v2:\n",
    "        if number_of_fetched_works == NUMBER_OF_WORKS:\n",
    "            break\n",
    "        if i.get(\"title\") is not None and i.get(\"abstract\") is not None and len(i.get(\"abstract\")):\n",
    "            title = i.get(\"title\")[0]\n",
    "            abstract = i.get(\"abstract\")\n",
    "        \n",
    "            if len(abstract) > 50:\n",
    "                latest_work = f\"\\\"{title}\\\", \\\"{abstract}\\\", {i.get(\"issued\")}\"\n",
    "                research.write(latest_work)\n",
    "                research.write(\"\\n\")\n",
    "                number_of_fetched_works+=1"
   ]
  },
  {
   "cell_type": "code",
   "execution_count": 13,
   "metadata": {},
   "outputs": [
    {
     "data": {
      "text/plain": [
       "'\"Synergy in Silicon: The Evolution and Potential of Academia-Industry Collaboration in AI and Software Engineering\", \"<jats:p>&lt;p&gt;In the ever-evolving landscape of software engineering, the symbiotic relationship between academia and industry is paramount for fostering innovation and ensuring the readiness of emerging professionals. Particularly, as artificial intelligence (AI) permeates software engineering, the nuances of its integration within education and training demand scrutiny. This article delves into the current dynamics of Software Engineering Education, highlighting the instrumental role of AI in shaping its future trajectory. We discuss the existing gaps between academic curricula and industry requirements, emphasizing the mutual benefits of collaboration. Through an in-depth case study, the piece showcases a successful model of such collaboration, informed by AI-driven approaches. The challenges in establishing effective industry-academia collaborations are also examined, providing insights into best practices that ensure sustainable, impactful partnerships. As we stand on the precipice of unprecedented technological advancements, the article underscores the urgent need for academia and industry to jointly navigate the future, ensuring that software engineering professionals are both technically adept and practically equipped.&lt;/p&gt;</jats:p>\", {\\'date-parts\\': [[2023, 8, 16]]}'"
      ]
     },
     "execution_count": 13,
     "metadata": {},
     "output_type": "execute_result"
    }
   ],
   "source": [
    "latest_work"
   ]
  },
  {
   "cell_type": "code",
   "execution_count": null,
   "metadata": {},
   "outputs": [],
   "source": [
    "client."
   ]
  }
 ],
 "metadata": {
  "kernelspec": {
   "display_name": ".venv",
   "language": "python",
   "name": "python3"
  },
  "language_info": {
   "codemirror_mode": {
    "name": "ipython",
    "version": 3
   },
   "file_extension": ".py",
   "mimetype": "text/x-python",
   "name": "python",
   "nbconvert_exporter": "python",
   "pygments_lexer": "ipython3",
   "version": "3.12.1"
  }
 },
 "nbformat": 4,
 "nbformat_minor": 2
}
